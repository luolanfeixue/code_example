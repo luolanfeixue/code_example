{
 "cells": [
  {
   "cell_type": "code",
   "execution_count": 28,
   "metadata": {},
   "outputs": [],
   "source": [
    "x1 = [([70, 75], 2960), ([41, 60, 18, 60, 64, 39, 38], 1037), ([17, 60, 41, 7, 47, 82], 2133), ([64, 47, 65, 65], 1533), ([39, 37], 1714), ([44, 37, 23, 64, 37, 39, 39], 1037), ([79, 41, 15, 39, 15, 38, 69], 1931), ([65, 47, 7, 44], 1037), ([43], 1706)]\n",
    "y1 = [8, 2, 1, 2, 2, 2, 1, 2, 2]"
   ]
  },
  {
   "cell_type": "code",
   "execution_count": 29,
   "metadata": {},
   "outputs": [],
   "source": [
    "x2 = [([70, 75], 2960), ([41, 60, 18, 60, 64, 39, 38], 1037), ([17, 60, 41, 7, 47, 82], 2133), ([64, 47, 65, 65], 1533), ([39, 37], 1714), ([44, 37, 23, 64, 37, 39, 39], 1037), ([79, 41, 15, 39, 15, 38, 69], 1931), ([65, 47, 7, 44], 1037), ([43], 1706)]\n",
    "y2 = [8, 2, 1, 2, 2, 2, 1, 2, 2]"
   ]
  },
  {
   "cell_type": "code",
   "execution_count": 30,
   "metadata": {},
   "outputs": [],
   "source": [
    "x1 = zip(*x1)\n",
    "x2 = zip(*x2)"
   ]
  },
  {
   "cell_type": "code",
   "execution_count": 31,
   "metadata": {},
   "outputs": [],
   "source": [
    "x_batch = []\n",
    "y_batch = []"
   ]
  },
  {
   "cell_type": "code",
   "execution_count": 32,
   "metadata": {},
   "outputs": [],
   "source": [
    "x_batch += [x1]\n",
    "x_batch += [x2]\n",
    "y_batch += [y1]\n",
    "y_batch += [y2]"
   ]
  },
  {
   "cell_type": "code",
   "execution_count": 33,
   "metadata": {},
   "outputs": [
    {
     "data": {
      "text/plain": [
       "[<zip at 0x1085bbb08>, <zip at 0x1085bb908>]"
      ]
     },
     "execution_count": 33,
     "metadata": {},
     "output_type": "execute_result"
    }
   ],
   "source": [
    "x_batch"
   ]
  },
  {
   "cell_type": "code",
   "execution_count": 34,
   "metadata": {},
   "outputs": [],
   "source": [
    "char_ids, word_ids = zip(*x_batch)"
   ]
  },
  {
   "cell_type": "code",
   "execution_count": 35,
   "metadata": {},
   "outputs": [
    {
     "data": {
      "text/plain": [
       "(([70, 75],\n",
       "  [41, 60, 18, 60, 64, 39, 38],\n",
       "  [17, 60, 41, 7, 47, 82],\n",
       "  [64, 47, 65, 65],\n",
       "  [39, 37],\n",
       "  [44, 37, 23, 64, 37, 39, 39],\n",
       "  [79, 41, 15, 39, 15, 38, 69],\n",
       "  [65, 47, 7, 44],\n",
       "  [43]),\n",
       " ([70, 75],\n",
       "  [41, 60, 18, 60, 64, 39, 38],\n",
       "  [17, 60, 41, 7, 47, 82],\n",
       "  [64, 47, 65, 65],\n",
       "  [39, 37],\n",
       "  [44, 37, 23, 64, 37, 39, 39],\n",
       "  [79, 41, 15, 39, 15, 38, 69],\n",
       "  [65, 47, 7, 44],\n",
       "  [43]))"
      ]
     },
     "execution_count": 35,
     "metadata": {},
     "output_type": "execute_result"
    }
   ],
   "source": [
    "char_ids"
   ]
  },
  {
   "cell_type": "code",
   "execution_count": 36,
   "metadata": {},
   "outputs": [
    {
     "data": {
      "text/plain": [
       "((2960, 1037, 2133, 1533, 1714, 1037, 1931, 1037, 1706),\n",
       " (2960, 1037, 2133, 1533, 1714, 1037, 1931, 1037, 1706))"
      ]
     },
     "execution_count": 36,
     "metadata": {},
     "output_type": "execute_result"
    }
   ],
   "source": [
    "word_ids"
   ]
  },
  {
   "cell_type": "code",
   "execution_count": null,
   "metadata": {},
   "outputs": [],
   "source": []
  }
 ],
 "metadata": {
  "kernelspec": {
   "display_name": "Python 3",
   "language": "python",
   "name": "python3"
  },
  "language_info": {
   "codemirror_mode": {
    "name": "ipython",
    "version": 3
   },
   "file_extension": ".py",
   "mimetype": "text/x-python",
   "name": "python",
   "nbconvert_exporter": "python",
   "pygments_lexer": "ipython3",
   "version": "3.6.5"
  }
 },
 "nbformat": 4,
 "nbformat_minor": 2
}
