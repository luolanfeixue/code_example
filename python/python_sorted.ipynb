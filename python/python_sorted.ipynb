{
 "cells": [
  {
   "cell_type": "markdown",
   "metadata": {},
   "source": [
    "# 字典排序"
   ]
  },
  {
   "cell_type": "code",
   "execution_count": 1,
   "metadata": {
    "collapsed": true
   },
   "outputs": [],
   "source": [
    "kids = [\n",
    "    {'name': 'xiaoming', 'score': 99, 'age': 12},\n",
    "    {'name': 'xiaohong', 'score': 75, 'age': 13},\n",
    "    {'name': 'xiaowang', 'score': 88, 'age': 15},\n",
    "    {'name': 'xiaohuang', 'score': 88, 'age': 13}\n",
    "]"
   ]
  },
  {
   "cell_type": "code",
   "execution_count": 2,
   "metadata": {
    "collapsed": false
   },
   "outputs": [
    {
     "data": {
      "text/plain": [
       "[{'age': 12, 'name': 'xiaoming', 'score': 99},\n",
       " {'age': 15, 'name': 'xiaowang', 'score': 88},\n",
       " {'age': 13, 'name': 'xiaohuang', 'score': 88},\n",
       " {'age': 13, 'name': 'xiaohong', 'score': 75}]"
      ]
     },
     "execution_count": 2,
     "metadata": {},
     "output_type": "execute_result"
    }
   ],
   "source": [
    "sorted(kids,key=lambda s : -s['score']) # 按成绩排序，默认是从小到大，取负号则是从大到小。"
   ]
  },
  {
   "cell_type": "code",
   "execution_count": 3,
   "metadata": {
    "collapsed": false
   },
   "outputs": [
    {
     "data": {
      "text/plain": [
       "[{'age': 12, 'name': 'xiaoming', 'score': 99},\n",
       " {'age': 13, 'name': 'xiaohuang', 'score': 88},\n",
       " {'age': 15, 'name': 'xiaowang', 'score': 88},\n",
       " {'age': 13, 'name': 'xiaohong', 'score': 75}]"
      ]
     },
     "execution_count": 3,
     "metadata": {},
     "output_type": "execute_result"
    }
   ],
   "source": [
    "sorted(kids,key=lambda s : (-s['score'],s['age'])) # 按成绩排序，成绩相同则按年龄排序，成绩从大到小，年龄从小到大。"
   ]
  },
  {
   "cell_type": "code",
   "execution_count": 4,
   "metadata": {
    "collapsed": true
   },
   "outputs": [],
   "source": [
    "from operator import itemgetter"
   ]
  },
  {
   "cell_type": "code",
   "execution_count": 5,
   "metadata": {
    "collapsed": false
   },
   "outputs": [
    {
     "data": {
      "text/plain": [
       "[{'age': 13, 'name': 'xiaohong', 'score': 75},\n",
       " {'age': 15, 'name': 'xiaowang', 'score': 88},\n",
       " {'age': 13, 'name': 'xiaohuang', 'score': 88},\n",
       " {'age': 12, 'name': 'xiaoming', 'score': 99}]"
      ]
     },
     "execution_count": 5,
     "metadata": {},
     "output_type": "execute_result"
    }
   ],
   "source": [
    "sorted(kids,key=itemgetter('score'))"
   ]
  },
  {
   "cell_type": "code",
   "execution_count": 6,
   "metadata": {
    "collapsed": false
   },
   "outputs": [
    {
     "data": {
      "text/plain": [
       "[{'age': 13, 'name': 'xiaohong', 'score': 75},\n",
       " {'age': 13, 'name': 'xiaohuang', 'score': 88},\n",
       " {'age': 15, 'name': 'xiaowang', 'score': 88},\n",
       " {'age': 12, 'name': 'xiaoming', 'score': 99}]"
      ]
     },
     "execution_count": 6,
     "metadata": {},
     "output_type": "execute_result"
    }
   ],
   "source": [
    "sorted(kids,key=itemgetter('score','age')) # 这里不如lambda表达式好用，不能自定义升降序"
   ]
  },
  {
   "cell_type": "markdown",
   "metadata": {},
   "source": [
    "# 类排序"
   ]
  },
  {
   "cell_type": "code",
   "execution_count": 7,
   "metadata": {
    "collapsed": true
   },
   "outputs": [],
   "source": [
    "class Kid:\n",
    "    def __init__(self, name, score, age):\n",
    "        self.name = name\n",
    "        self.score = score\n",
    "        self.age = age\n",
    "\n",
    "    def __repr__(self): # 相当于toString\n",
    "        return 'Kid, name: {}, score: {}, age:{}'.format(self.name, self.score, self.age)"
   ]
  },
  {
   "cell_type": "code",
   "execution_count": 8,
   "metadata": {
    "collapsed": false
   },
   "outputs": [],
   "source": [
    "kids = [Kid('xiaoming', 99, 12), Kid('xiaohong', 75, 13), Kid('xiaowang', 88, 15),Kid('xiaohuang',88,13)]"
   ]
  },
  {
   "cell_type": "code",
   "execution_count": 9,
   "metadata": {
    "collapsed": false
   },
   "outputs": [
    {
     "name": "stdout",
     "output_type": "stream",
     "text": [
      "[Kid, name: xiaoming, score: 99, age:12, Kid, name: xiaohong, score: 75, age:13, Kid, name: xiaowang, score: 88, age:15, Kid, name: xiaohuang, score: 88, age:13]\n"
     ]
    }
   ],
   "source": [
    "print(kids)"
   ]
  },
  {
   "cell_type": "code",
   "execution_count": 10,
   "metadata": {
    "collapsed": false
   },
   "outputs": [
    {
     "data": {
      "text/plain": [
       "[Kid, name: xiaoming, score: 99, age:12,\n",
       " Kid, name: xiaowang, score: 88, age:15,\n",
       " Kid, name: xiaohuang, score: 88, age:13,\n",
       " Kid, name: xiaohong, score: 75, age:13]"
      ]
     },
     "execution_count": 10,
     "metadata": {},
     "output_type": "execute_result"
    }
   ],
   "source": [
    "sorted(kids,key=lambda x : -x.score)"
   ]
  },
  {
   "cell_type": "code",
   "execution_count": 11,
   "metadata": {
    "collapsed": false
   },
   "outputs": [
    {
     "data": {
      "text/plain": [
       "[Kid, name: xiaoming, score: 99, age:12,\n",
       " Kid, name: xiaohuang, score: 88, age:13,\n",
       " Kid, name: xiaowang, score: 88, age:15,\n",
       " Kid, name: xiaohong, score: 75, age:13]"
      ]
     },
     "execution_count": 11,
     "metadata": {},
     "output_type": "execute_result"
    }
   ],
   "source": [
    "sorted(kids,key=lambda x : (-x.score,x.age))"
   ]
  },
  {
   "cell_type": "markdown",
   "metadata": {},
   "source": [
    "# 自定义序列"
   ]
  },
  {
   "cell_type": "code",
   "execution_count": 12,
   "metadata": {
    "collapsed": true
   },
   "outputs": [],
   "source": [
    "def cmpx(kid1, kid2):\n",
    "    return kid1.age < kid2.age if kid1.score == kid2.score else kid1.score > kid2.score"
   ]
  },
  {
   "cell_type": "code",
   "execution_count": 13,
   "metadata": {
    "collapsed": false
   },
   "outputs": [],
   "source": [
    "from functools import cmp_to_key"
   ]
  },
  {
   "cell_type": "code",
   "execution_count": 14,
   "metadata": {
    "collapsed": true
   },
   "outputs": [],
   "source": [
    "kids = [Kid('xiaoming', 99, 12), Kid('xiaohong', 75, 13), Kid('xiaowang', 88, 15),Kid('xiaohuang',88,13)]"
   ]
  },
  {
   "cell_type": "code",
   "execution_count": 15,
   "metadata": {
    "collapsed": false
   },
   "outputs": [
    {
     "data": {
      "text/plain": [
       "[Kid, name: xiaoming, score: 99, age:12,\n",
       " Kid, name: xiaohuang, score: 88, age:13,\n",
       " Kid, name: xiaowang, score: 88, age:15,\n",
       " Kid, name: xiaohong, score: 75, age:13]"
      ]
     },
     "execution_count": 15,
     "metadata": {},
     "output_type": "execute_result"
    }
   ],
   "source": [
    "sorted(kids,key=lambda x : (-x.score, x.age))"
   ]
  },
  {
   "cell_type": "code",
   "execution_count": 16,
   "metadata": {
    "collapsed": false
   },
   "outputs": [
    {
     "data": {
      "text/plain": [
       "[Kid, name: xiaoming, score: 99, age:12,\n",
       " Kid, name: xiaohong, score: 75, age:13,\n",
       " Kid, name: xiaowang, score: 88, age:15,\n",
       " Kid, name: xiaohuang, score: 88, age:13]"
      ]
     },
     "execution_count": 16,
     "metadata": {},
     "output_type": "execute_result"
    }
   ],
   "source": [
    "kids # 原始kids没有改变顺序"
   ]
  },
  {
   "cell_type": "code",
   "execution_count": 18,
   "metadata": {
    "collapsed": false
   },
   "outputs": [
    {
     "data": {
      "text/plain": [
       "[Kid, name: xiaoming, score: 99, age:12,\n",
       " Kid, name: xiaohong, score: 75, age:13,\n",
       " Kid, name: xiaowang, score: 88, age:15,\n",
       " Kid, name: xiaohuang, score: 88, age:13]"
      ]
     },
     "execution_count": 18,
     "metadata": {},
     "output_type": "execute_result"
    }
   ],
   "source": [
    "sorted(kids, key=cmp_to_key(cmpx))# 不好使？ 为什么"
   ]
  },
  {
   "cell_type": "markdown",
   "metadata": {},
   "source": [
    "# 重构比较函数"
   ]
  },
  {
   "cell_type": "code",
   "execution_count": 56,
   "metadata": {
    "collapsed": true
   },
   "outputs": [],
   "source": [
    "class Kid:\n",
    "    def __init__(self, name, score, age):\n",
    "        self.name = name\n",
    "        self.score = score\n",
    "        self.age = age\n",
    "\n",
    "    def __repr__(self):\n",
    "        return 'Kid, name: {}, score: {}, age:{}'.format(self.name, self.score, self.age)\n",
    "\n",
    "    def __lt__(self, other): \n",
    "        return self.score > other.score or (self.score == other.score and self.age < other.age)"
   ]
  },
  {
   "cell_type": "code",
   "execution_count": 57,
   "metadata": {
    "collapsed": true
   },
   "outputs": [],
   "source": [
    "kids = [Kid('xiaoming', 99, 12), Kid('xiaohong', 75, 13), Kid('xiaowang', 88, 15),Kid('xiaohuang',88,13)]"
   ]
  },
  {
   "cell_type": "code",
   "execution_count": 58,
   "metadata": {
    "collapsed": false
   },
   "outputs": [
    {
     "data": {
      "text/plain": [
       "[Kid, name: xiaoming, score: 99, age:12,\n",
       " Kid, name: xiaohuang, score: 88, age:13,\n",
       " Kid, name: xiaowang, score: 88, age:15,\n",
       " Kid, name: xiaohong, score: 75, age:13]"
      ]
     },
     "execution_count": 58,
     "metadata": {},
     "output_type": "execute_result"
    }
   ],
   "source": [
    "sorted(kids)"
   ]
  },
  {
   "cell_type": "code",
   "execution_count": null,
   "metadata": {
    "collapsed": true
   },
   "outputs": [],
   "source": []
  }
 ],
 "metadata": {
  "kernelspec": {
   "display_name": "Python 3",
   "language": "python",
   "name": "python3"
  },
  "language_info": {
   "codemirror_mode": {
    "name": "ipython",
    "version": 3
   },
   "file_extension": ".py",
   "mimetype": "text/x-python",
   "name": "python",
   "nbconvert_exporter": "python",
   "pygments_lexer": "ipython3",
   "version": "3.6.0"
  }
 },
 "nbformat": 4,
 "nbformat_minor": 2
}
