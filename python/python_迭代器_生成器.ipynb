{
 "cells": [
  {
   "cell_type": "markdown",
   "metadata": {},
   "source": [
    "* 迭代器\n",
    "\n",
    "test 定义了__iter__和__next__所以是个可以迭代的类\n",
    "\n",
    "for … in… 这个语句其实做了两件事。第一件事是获得一个可迭代器，即调用了__iter__()函数。 \n",
    "第二件事是循环的过程，循环调用__next__()函数。"
   ]
  },
  {
   "cell_type": "code",
   "execution_count": 1,
   "metadata": {
    "collapsed": true
   },
   "outputs": [],
   "source": [
    "class test():\n",
    "    def __init__(self,data=1):\n",
    "        self.data = data\n",
    "\n",
    "    def __iter__(self):\n",
    "        return self\n",
    "    def __next__(self):\n",
    "        if self.data > 5:\n",
    "            raise StopIteration\n",
    "        else:\n",
    "            self.data+=1\n",
    "            return self.data"
   ]
  },
  {
   "cell_type": "code",
   "execution_count": 2,
   "metadata": {
    "collapsed": false
   },
   "outputs": [
    {
     "name": "stdout",
     "output_type": "stream",
     "text": [
      "4\n",
      "5\n",
      "6\n"
     ]
    }
   ],
   "source": [
    "for item in test(3):\n",
    "    print(item)"
   ]
  },
  {
   "cell_type": "markdown",
   "metadata": {},
   "source": [
    "* 生成器\n",
    "\n",
    "yield就是 return 返回一个值，并且记住这个返回的位置，下次迭代就从这个位置后(下一行)开始。"
   ]
  },
  {
   "cell_type": "code",
   "execution_count": 3,
   "metadata": {
    "collapsed": true
   },
   "outputs": [],
   "source": [
    "def yield_test(n):\n",
    "    for i in range(n):\n",
    "        print(\"内部 pre yield i=\", i)\n",
    "        yield call(i)\n",
    "        print(\"内部 after yield i=\", i)\n",
    "        print()\n",
    "        # 做一些其它的事情\n",
    "    print(\"do something.\")\n",
    "    print(\"end.\")\n",
    "def call(i):\n",
    "    return i * 2"
   ]
  },
  {
   "cell_type": "code",
   "execution_count": 4,
   "metadata": {
    "collapsed": false
   },
   "outputs": [
    {
     "name": "stdout",
     "output_type": "stream",
     "text": [
      "内部 pre yield i= 0\n",
      "for i: 0\n",
      "内部 after yield i= 0\n",
      "\n",
      "内部 pre yield i= 1\n",
      "for i: 2\n",
      "内部 after yield i= 1\n",
      "\n",
      "内部 pre yield i= 2\n",
      "for i: 4\n",
      "内部 after yield i= 2\n",
      "\n",
      "内部 pre yield i= 3\n",
      "for i: 6\n",
      "内部 after yield i= 3\n",
      "\n",
      "内部 pre yield i= 4\n",
      "for i: 8\n",
      "内部 after yield i= 4\n",
      "\n",
      "do something.\n",
      "end.\n"
     ]
    }
   ],
   "source": [
    "# 使用for循环\n",
    "for i in yield_test(5):\n",
    "    print('for i:', i)"
   ]
  },
  {
   "cell_type": "code",
   "execution_count": null,
   "metadata": {
    "collapsed": true
   },
   "outputs": [],
   "source": []
  }
 ],
 "metadata": {
  "kernelspec": {
   "display_name": "Python 3",
   "language": "python",
   "name": "python3"
  },
  "language_info": {
   "codemirror_mode": {
    "name": "ipython",
    "version": 3
   },
   "file_extension": ".py",
   "mimetype": "text/x-python",
   "name": "python",
   "nbconvert_exporter": "python",
   "pygments_lexer": "ipython3",
   "version": "3.6.0"
  }
 },
 "nbformat": 4,
 "nbformat_minor": 2
}
